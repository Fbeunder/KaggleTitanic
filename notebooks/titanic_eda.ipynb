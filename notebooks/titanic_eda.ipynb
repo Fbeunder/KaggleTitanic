{
 "cells": [
  {
   "cell_type": "markdown",
   "metadata": {},
   "source": [
    "# Titanic Dataset Exploratory Data Analysis\n",
    "\n",
    "This notebook contains exploratory data analysis (EDA) of the Titanic dataset. We'll explore the features, their distributions, correlations, and insights to better understand the data before modeling."
   ]
  },
  {
   "cell_type": "markdown",
   "metadata": {},
   "source": [
    "## 1. Setup and Data Loading"
   ]
  },
  {
   "cell_type": "code",
   "execution_count": null,
   "metadata": {},
   "outputs": [],
   "source": [
    "# Import necessary libraries\n",
    "import pandas as pd\n",
    "import numpy as np\n",
    "import matplotlib.pyplot as plt\n",
    "import seaborn as sns\n",
    "import os\n",
    "import sys\n",
    "\n",
    "# Add the project root to path so we can import modules\n",
    "sys.path.append(os.path.abspath('../'))\n",
    "\n",
    "# Import project modules\n",
    "from src.data_processing.data_loader import DataLoader\n",
    "\n",
    "# Set plotting style\n",
    "sns.set_style('whitegrid')\n",
    "plt.rcParams['figure.figsize'] = (12, 8)\n",
    "\n",
    "# Load data\n",
    "data_loader = DataLoader()\n",
    "train_data = data_loader.load_train_data()\n",
    "test_data = data_loader.load_test_data()\n",
    "\n",
    "# Display basic information\n",
    "print(f\"Training data shape: {train_data.shape}\")\n",
    "print(f\"Testing data shape: {test_data.shape}\")"
   ]
  },
  {
   "cell_type": "markdown",
   "metadata": {},
   "source": [
    "## 2. Data Overview"
   ]
  },
  {
   "cell_type": "code",
   "execution_count": null,
   "metadata": {},
   "outputs": [],
   "source": [
    "# Display first few rows of the training data\n",
    "train_data.head()"
   ]
  },
  {
   "cell_type": "code",
   "execution_count": null,
   "metadata": {},
   "outputs": [],
   "source": [
    "# Get summary statistics\n",
    "train_data.describe(include='all')"
   ]
  },
  {
   "cell_type": "code",
   "execution_count": null,
   "metadata": {},
   "outputs": [],
   "source": [
    "# Check data types\n",
    "train_data.info()"
   ]
  },
  {
   "cell_type": "markdown",
   "metadata": {},
   "source": [
    "## 3. Missing Value Analysis"
   ]
  },
  {
   "cell_type": "code",
   "execution_count": null,
   "metadata": {},
   "outputs": [],
   "source": [
    "# Check missing values in training data\n",
    "train_missing = train_data.isnull().sum().sort_values(ascending=False)\n",
    "train_missing_percent = (train_missing / len(train_data) * 100).round(2)\n",
    "train_missing_df = pd.DataFrame({'Missing Count': train_missing, 'Missing Percent': train_missing_percent})\n",
    "print(\"Missing values in training data:\")\n",
    "train_missing_df[train_missing_df['Missing Count'] > 0]"
   ]
  },
  {
   "cell_type": "code",
   "execution_count": null,
   "metadata": {},
   "outputs": [],
   "source": [
    "# Check missing values in test data\n",
    "test_missing = test_data.isnull().sum().sort_values(ascending=False)\n",
    "test_missing_percent = (test_missing / len(test_data) * 100).round(2)\n",
    "test_missing_df = pd.DataFrame({'Missing Count': test_missing, 'Missing Percent': test_missing_percent})\n",
    "print(\"Missing values in testing data:\")\n",
    "test_missing_df[test_missing_df['Missing Count'] > 0]"
   ]
  },
  {
   "cell_type": "code",
   "execution_count": null,
   "metadata": {},
   "outputs": [],
   "source": [
    "# Visualize missing values\n",
    "plt.figure(figsize=(12, 6))\n",
    "sns.heatmap(train_data.isnull(), cbar=False, cmap='viridis', yticklabels=False)\n",
    "plt.title('Missing Values in Training Data')\n",
    "plt.tight_layout()\n",
    "plt.show()"
   ]
  },
  {
   "cell_type": "markdown",
   "metadata": {},
   "source": [
    "## 4. Survival Rate Analysis"
   ]
  },
  {
   "cell_type": "code",
   "execution_count": null,
   "metadata": {},
   "outputs": [],
   "source": [
    "# Overall survival rate\n",
    "survival_rate = train_data['Survived'].mean() * 100\n",
    "print(f\"Overall survival rate: {survival_rate:.2f}%\")\n",
    "\n",
    "# Visualize survival distribution\n",
    "plt.figure(figsize=(8, 6))\n",
    "sns.countplot(x='Survived', data=train_data, palette='Set2')\n",
    "plt.title('Survival Distribution')\n",
    "plt.xlabel('Survived (0 = No, 1 = Yes)')\n",
    "plt.ylabel('Count')\n",
    "\n",
    "# Add count and percentage labels\n",
    "for i, count in enumerate(train_data['Survived'].value_counts()):\n",
    "    percentage = 100 * count / len(train_data)\n",
    "    plt.text(i, count + 10, f\"{count} ({percentage:.1f}%)\", ha='center')\n",
    "\n",
    "plt.show()"
   ]
  },
  {
   "cell_type": "markdown",
   "metadata": {},
   "source": [
    "## 5. Categorical Feature Analysis"
   ]
  },
  {
   "cell_type": "code",
   "execution_count": null,
   "metadata": {},
   "outputs": [],
   "source": [
    "# Function to plot survival rate by categorical feature\n",
    "def plot_survival_by_category(feature, title=None, figsize=(12, 6)):\n",
    "    plt.figure(figsize=figsize)\n",
    "    \n",
    "    # Plot count\n",
    "    plt.subplot(1, 2, 1)\n",
    "    sns.countplot(x=feature, hue='Survived', data=train_data, palette='Set2')\n",
    "    plt.title(f'Count by {feature}')\n",
    "    plt.xlabel(feature)\n",
    "    plt.ylabel('Count')\n",
    "    plt.legend(title='Survived', loc='upper right')\n",
    "    \n",
    "    # Plot survival rate\n",
    "    plt.subplot(1, 2, 2)\n",
    "    survival_rate = train_data.groupby(feature)['Survived'].mean().sort_values(ascending=False) * 100\n",
    "    sns.barplot(x=survival_rate.index, y=survival_rate.values, palette='Set2')\n",
    "    plt.title(f'Survival Rate by {feature}')\n",
    "    plt.xlabel(feature)\n",
    "    plt.ylabel('Survival Rate (%)')\n",
    "    \n",
    "    # Add percentage labels\n",
    "    for i, rate in enumerate(survival_rate):\n",
    "        plt.text(i, rate + 1, f\"{rate:.1f}%\", ha='center')\n",
    "    \n",
    "    plt.tight_layout()\n",
    "    plt.show()\n",
    "    \n",
    "    # Return the survival rate data for reference\n",
    "    return survival_rate"
   ]
  },
  {
   "cell_type": "code",
   "execution_count": null,
   "metadata": {},
   "outputs": [],
   "source": [
    "# Analyze survival by Sex\n",
    "sex_survival = plot_survival_by_category('Sex', 'Survival Rate by Sex')\n",
    "print(f\"Survival rates by Sex:\\n{sex_survival}\")"
   ]
  },
  {
   "cell_type": "code",
   "execution_count": null,
   "metadata": {},
   "outputs": [],
   "source": [
    "# Analyze survival by Pclass\n",
    "pclass_survival = plot_survival_by_category('Pclass', 'Survival Rate by Passenger Class')\n",
    "print(f\"Survival rates by Passenger Class:\\n{pclass_survival}\")"
   ]
  },
  {
   "cell_type": "code",
   "execution_count": null,
   "metadata": {},
   "outputs": [],
   "source": [
    "# Analyze survival by Embarked\n",
    "embarked_survival = plot_survival_by_category('Embarked', 'Survival Rate by Port of Embarkation')\n",
    "print(f\"Survival rates by Port of Embarkation:\\n{embarked_survival}\")"
   ]
  },
  {
   "cell_type": "code",
   "execution_count": null,
   "metadata": {},
   "outputs": [],
   "source": [
    "# Combined analysis of Sex and Pclass\n",
    "plt.figure(figsize=(12, 6))\n",
    "sns.catplot(x='Pclass', hue='Survived', col='Sex', kind='count', data=train_data, palette='Set2', height=6, aspect=0.8)\n",
    "plt.suptitle('Survival by Passenger Class and Sex', y=1.05, fontsize=16)\n",
    "plt.tight_layout()\n",
    "plt.show()"
   ]
  },
  {
   "cell_type": "markdown",
   "metadata": {},
   "source": [
    "## 6. Numeric Feature Analysis"
   ]
  },
  {
   "cell_type": "code",
   "execution_count": null,
   "metadata": {},
   "outputs": [],
   "source": [
    "# Age distribution\n",
    "plt.figure(figsize=(12, 6))\n",
    "\n",
    "plt.subplot(1, 2, 1)\n",
    "sns.histplot(train_data['Age'].dropna(), kde=True, bins=30)\n",
    "plt.title('Age Distribution')\n",
    "plt.xlabel('Age')\n",
    "plt.ylabel('Count')\n",
    "\n",
    "plt.subplot(1, 2, 2)\n",
    "sns.boxplot(y='Age', x='Survived', data=train_data, palette='Set2')\n",
    "plt.title('Age by Survival Status')\n",
    "plt.xlabel('Survived (0 = No, 1 = Yes)')\n",
    "plt.ylabel('Age')\n",
    "\n",
    "plt.tight_layout()\n",
    "plt.show()"
   ]
  },
  {
   "cell_type": "code",
   "execution_count": null,
   "metadata": {},
   "outputs": [],
   "source": [
    "# Create age groups for analysis\n",
    "train_data['AgeGroup'] = pd.cut(train_data['Age'], bins=[0, 12, 18, 35, 60, 100], labels=['Child', 'Teen', 'Young Adult', 'Adult', 'Senior'])\n",
    "\n",
    "# Analyze survival by age group\n",
    "age_group_survival = plot_survival_by_category('AgeGroup', 'Survival Rate by Age Group')\n",
    "print(f\"Survival rates by Age Group:\\n{age_group_survival}\")"
   ]
  },
  {
   "cell_type": "code",
   "execution_count": null,
   "metadata": {},
   "outputs": [],
   "source": [
    "# Fare distribution\n",
    "plt.figure(figsize=(12, 6))\n",
    "\n",
    "plt.subplot(1, 2, 1)\n",
    "sns.histplot(train_data['Fare'], kde=True, bins=30)\n",
    "plt.title('Fare Distribution')\n",
    "plt.xlabel('Fare')\n",
    "plt.ylabel('Count')\n",
    "\n",
    "plt.subplot(1, 2, 2)\n",
    "sns.boxplot(y='Fare', x='Survived', data=train_data, palette='Set2')\n",
    "plt.title('Fare by Survival Status')\n",
    "plt.xlabel('Survived (0 = No, 1 = Yes)')\n",
    "plt.ylabel('Fare')\n",
    "\n",
    "plt.tight_layout()\n",
    "plt.show()"
   ]
  },
  {
   "cell_type": "code",
   "execution_count": null,
   "metadata": {},
   "outputs": [],
   "source": [
    "# Create fare groups for analysis\n",
    "train_data['FareGroup'] = pd.qcut(train_data['Fare'], 5, labels=['Very Low', 'Low', 'Medium', 'High', 'Very High'])\n",
    "\n",
    "# Analyze survival by fare group\n",
    "fare_group_survival = plot_survival_by_category('FareGroup', 'Survival Rate by Fare Group')\n",
    "print(f\"Survival rates by Fare Group:\\n{fare_group_survival}\")"
   ]
  },
  {
   "cell_type": "markdown",
   "metadata": {},
   "source": [
    "## 7. Family Feature Analysis"
   ]
  },
  {
   "cell_type": "code",
   "execution_count": null,
   "metadata": {},
   "outputs": [],
   "source": [
    "# Create family size feature\n",
    "train_data['FamilySize'] = train_data['SibSp'] + train_data['Parch'] + 1\n",
    "\n",
    "# Analyze survival by family size\n",
    "plt.figure(figsize=(12, 6))\n",
    "family_survival = train_data.groupby('FamilySize')['Survived'].mean() * 100\n",
    "family_counts = train_data['FamilySize'].value_counts()\n",
    "\n",
    "plt.subplot(1, 2, 1)\n",
    "sns.countplot(x='FamilySize', data=train_data, palette='viridis')\n",
    "plt.title('Family Size Distribution')\n",
    "plt.xlabel('Family Size')\n",
    "plt.ylabel('Count')\n",
    "\n",
    "plt.subplot(1, 2, 2)\n",
    "sns.barplot(x=family_survival.index, y=family_survival.values, palette='viridis')\n",
    "plt.title('Survival Rate by Family Size')\n",
    "plt.xlabel('Family Size')\n",
    "plt.ylabel('Survival Rate (%)')\n",
    "\n",
    "# Add percentage labels\n",
    "for i, rate in enumerate(family_survival):\n",
    "    plt.text(i, rate + 1, f\"{rate:.1f}%\", ha='center')\n",
    "\n",
    "plt.tight_layout()\n",
    "plt.show()\n",
    "\n",
    "print(f\"Survival rates by Family Size:\\n{family_survival}\")\n",
    "print(f\"\\nFamily Size counts:\\n{family_counts}\")"
   ]
  },
  {
   "cell_type": "code",
   "execution_count": null,
   "metadata": {},
   "outputs": [],
   "source": [
    "# Create family group feature\n",
    "train_data['FamilyGroup'] = pd.cut(train_data['FamilySize'], bins=[0, 1, 4, float('inf')], labels=['Alone', 'Small', 'Large'])\n",
    "\n",
    "# Analyze survival by family group\n",
    "family_group_survival = plot_survival_by_category('FamilyGroup', 'Survival Rate by Family Group')\n",
    "print(f\"Survival rates by Family Group:\\n{family_group_survival}\")"
   ]
  },
  {
   "cell_type": "markdown",
   "metadata": {},
   "source": [
    "## 8. Title Analysis"
   ]
  },
  {
   "cell_type": "code",
   "execution_count": null,
   "metadata": {},
   "outputs": [],
   "source": [
    "# Extract title from name\n",
    "train_data['Title'] = train_data['Name'].str.extract(' ([A-Za-z]+)\\.', expand=False)\n",
    "\n",
    "# View title counts\n",
    "print(\"Title counts:\")\n",
    "title_counts = train_data['Title'].value_counts()\n",
    "print(title_counts)\n",
    "\n",
    "# Group rare titles\n",
    "title_mapping = {\n",
    "    'Mr': 'Mr',\n",
    "    'Miss': 'Miss',\n",
    "    'Mrs': 'Mrs',\n",
    "    'Master': 'Master',\n",
    "    'Dr': 'Rare',\n",
    "    'Rev': 'Rare',\n",
    "    'Col': 'Rare',\n",
    "    'Major': 'Rare',\n",
    "    'Mlle': 'Miss',\n",
    "    'Countess': 'Rare',\n",
    "    'Ms': 'Miss',\n",
    "    'Lady': 'Rare',\n",
    "    'Jonkheer': 'Rare',\n",
    "    'Don': 'Rare',\n",
    "    'Dona': 'Rare',\n",
    "    'Mme': 'Mrs',\n",
    "    'Capt': 'Rare',\n",
    "    'Sir': 'Rare'\n",
    "}\n",
    "\n",
    "train_data['Title'] = train_data['Title'].map(title_mapping)\n",
    "\n",
    "# Analyze survival by title\n",
    "title_survival = plot_survival_by_category('Title', 'Survival Rate by Title')\n",
    "print(f\"\\nSurvival rates by Title:\\n{title_survival}\")"
   ]
  },
  {
   "cell_type": "markdown",
   "metadata": {},
   "source": [
    "## 9. Cabin Analysis"
   ]
  },
  {
   "cell_type": "code",
   "execution_count": null,
   "metadata": {},
   "outputs": [],
   "source": [
    "# Check if Cabin is available\n",
    "train_data['HasCabin'] = train_data['Cabin'].notna().astype(int)\n",
    "\n",
    "# Analyze survival by Cabin availability\n",
    "cabin_survival = plot_survival_by_category('HasCabin', 'Survival Rate by Cabin Availability')\n",
    "print(f\"Survival rates by Cabin Availability (0 = No Cabin, 1 = Has Cabin):\\n{cabin_survival}\")"
   ]
  },
  {
   "cell_type": "code",
   "execution_count": null,
   "metadata": {},
   "outputs": [],
   "source": [
    "# Extract cabin deck (first letter)\n",
    "train_data['Deck'] = train_data['Cabin'].str[0]\n",
    "\n",
    "# Print deck counts\n",
    "deck_counts = train_data['Deck'].value_counts()\n",
    "print(\"Deck counts:\")\n",
    "print(deck_counts)\n",
    "\n",
    "# Filter for decks with more than 10 passengers\n",
    "common_decks = deck_counts[deck_counts > 10].index\n",
    "deck_data = train_data[train_data['Deck'].isin(common_decks)].copy()\n",
    "\n",
    "# Analyze survival by deck\n",
    "plt.figure(figsize=(12, 6))\n",
    "deck_survival = deck_data.groupby('Deck')['Survived'].mean().sort_values(ascending=False) * 100\n",
    "\n",
    "sns.barplot(x=deck_survival.index, y=deck_survival.values, palette='viridis')\n",
    "plt.title('Survival Rate by Deck')\n",
    "plt.xlabel('Deck')\n",
    "plt.ylabel('Survival Rate (%)')\n",
    "\n",
    "# Add percentage labels\n",
    "for i, rate in enumerate(deck_survival):\n",
    "    plt.text(i, rate + 1, f\"{rate:.1f}%\", ha='center')\n",
    "\n",
    "plt.tight_layout()\n",
    "plt.show()\n",
    "\n",
    "print(f\"\\nSurvival rates by Deck:\\n{deck_survival}\")"
   ]
  },
  {
   "cell_type": "markdown",
   "metadata": {},
   "source": [
    "## 10. Correlation Analysis"
   ]
  },
  {
   "cell_type": "code",
   "execution_count": null,
   "metadata": {},
   "outputs": [],
   "source": [
    "# Prepare data for correlation analysis\n",
    "corr_data = train_data.copy()\n",
    "\n",
    "# Convert relevant categorical variables to numeric\n",
    "corr_data['Sex'] = corr_data['Sex'].map({'male': 0, 'female': 1})\n",
    "corr_data = pd.get_dummies(corr_data, columns=['Title', 'FamilyGroup', 'Embarked'], drop_first=False)\n",
    "\n",
    "# Select numeric columns for correlation\n",
    "numeric_cols = ['Survived', 'Pclass', 'Sex', 'Age', 'SibSp', 'Parch', 'Fare', \n",
    "                'FamilySize', 'HasCabin'] + \\\n",
    "               [col for col in corr_data.columns if col.startswith('Title_') or \n",
    "                col.startswith('FamilyGroup_') or col.startswith('Embarked_')]\n",
    "\n",
    "# Calculate correlation with Survived\n",
    "correlation_with_survived = corr_data[numeric_cols].corr()['Survived'].sort_values(ascending=False)\n",
    "print(\"Correlation with Survived:\")\n",
    "print(correlation_with_survived)"
   ]
  },
  {
   "cell_type": "code",
   "execution_count": null,
   "metadata": {},
   "outputs": [],
   "source": [
    "# Plot correlation matrix of key features\n",
    "key_features = ['Survived', 'Pclass', 'Sex', 'Age', 'SibSp', 'Parch', 'Fare', 'FamilySize', 'HasCabin']\n",
    "plt.figure(figsize=(12, 10))\n",
    "correlation_matrix = corr_data[key_features].corr()\n",
    "\n",
    "sns.heatmap(correlation_matrix, annot=True, cmap='coolwarm', fmt='.2f', linewidths=0.5)\n",
    "plt.title('Correlation Matrix of Key Features')\n",
    "plt.tight_layout()\n",
    "plt.show()"
   ]
  },
  {
   "cell_type": "markdown",
   "metadata": {},
   "source": [
    "## 11. Key Insights Summary"
   ]
  },
  {
   "cell_type": "markdown",
   "metadata": {},
   "source": [
    "Based on our exploratory analysis, here are the key insights:\n",
    "\n",
    "1. **Gender**: Being female was the strongest predictor of survival. Women had a much higher survival rate compared to men.\n",
    "\n",
    "2. **Class**: Passenger class (Pclass) was strongly correlated with survival. First class passengers had the highest survival rate, followed by second class, and third class had the lowest.\n",
    "\n",
    "3. **Age**: Children had higher survival rates than adults. Age patterns varied by gender and class.\n",
    "\n",
    "4. **Title**: Titles extracted from names showed clear patterns. \"Mrs\" and \"Miss\" had high survival rates, while \"Mr\" had a low survival rate.\n",
    "\n",
    "5. **Family Size**: Passengers traveling with small families (2-4 members) had higher survival rates than those traveling alone or with large families.\n",
    "\n",
    "6. **Fare**: Higher fare was associated with higher survival rate, which is also related to passenger class.\n",
    "\n",
    "7. **Cabin**: Passengers with cabin information recorded had higher survival rates, suggesting they were higher-status passengers.\n",
    "\n",
    "8. **Embarkation Port**: Passengers who embarked from Cherbourg (C) had higher survival rates than those from Queenstown (Q) or Southampton (S).\n",
    "\n",
    "This analysis suggests that social status (class, fare, cabin) and demographic factors (gender, age) were key determinants of survival. These insights will be useful for feature engineering and model selection."
   ]
  },
  {
   "cell_type": "markdown",
   "metadata": {},
   "source": [
    "## 12. Next Steps"
   ]
  },
  {
   "cell_type": "markdown",
   "metadata": {},
   "source": [
    "Based on our EDA, here are the next steps for our modeling process:\n",
    "\n",
    "1. **Feature Engineering**:\n",
    "   - Create title features from names\n",
    "   - Create family size and family group features\n",
    "   - Create cabin features (deck, has_cabin)\n",
    "   - Create age groups\n",
    "   - Create fare groups\n",
    "\n",
    "2. **Data Preprocessing**:\n",
    "   - Handle missing values based on our analysis\n",
    "   - Encode categorical variables\n",
    "   - Scale numerical features\n",
    "\n",
    "3. **Feature Selection**:\n",
    "   - Use the correlation analysis to guide feature selection\n",
    "   - Consider feature importance from tree-based models\n",
    "\n",
    "4. **Model Training**:\n",
    "   - Try different models including logistic regression, random forest, gradient boosting\n",
    "   - Optimize hyperparameters\n",
    "   - Evaluate performance using cross-validation\n",
    "\n",
    "5. **Model Evaluation**:\n",
    "   - Compare model performance\n",
    "   - Analyze feature importance\n",
    "   - Generate predictions for the test set\n",
    "\n",
    "These steps will help us build accurate predictive models for Titanic survival."
   ]
  }
 ],
 "metadata": {
  "kernelspec": {
   "display_name": "Python 3",
   "language": "python",
   "name": "python3"
  },
  "language_info": {
   "codemirror_mode": {
    "name": "ipython",
    "version": 3
   },
   "file_extension": ".py",
   "mimetype": "text/x-python",
   "name": "python",
   "nbconvert_exporter": "python",
   "pygments_lexer": "ipython3",
   "version": "3.8.8"
  }
 },
 "nbformat": 4,
 "nbformat_minor": 4
}
